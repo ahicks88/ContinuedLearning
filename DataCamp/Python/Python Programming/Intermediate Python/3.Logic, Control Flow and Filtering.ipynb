{
 "cells": [
  {
   "cell_type": "code",
   "execution_count": 10,
   "metadata": {},
   "outputs": [
    {
     "output_type": "execute_result",
     "data": {
      "text/plain": "True"
     },
     "metadata": {},
     "execution_count": 10
    }
   ],
   "source": [
    "# Comparison Operators:\n",
    "\n",
    "# Numpy Recap:\n",
    "# Code from Intro to Python for Data Science, Chapter 4\n",
    "import numpy as np\n",
    "np_height = np.array([1.73,1.68,1.71,1.89,1.79])\n",
    "np_weight = np.array([65.4,59.2,63.6,88.4,68.7]) \n",
    "bmi = np_weight / np_height ** 2\n",
    "bmi\n",
    "\n",
    "bmi > 23\n",
    "\n",
    "bmi[bmi > 23]\n",
    "\n",
    "2 < 3\n",
    "\n",
    "2 == 3\n",
    "\n",
    "2 <= 3\n",
    "\n",
    "3 <= 3\n",
    "\n",
    "x = 2\n",
    "y = 3\n",
    "x < y\n",
    "\n",
    "\"carl\" < \"chris\" # works based off spelling\n",
    "\n",
    "# 3 < \"chris\" # doesn't work. Needs to be the same data type\n",
    "\n",
    "3 < 4.1"
   ]
  },
  {
   "cell_type": "code",
   "execution_count": null,
   "metadata": {},
   "outputs": [],
   "source": [
    "# Equality:\n",
    "\n",
    "# Comparison of booleans\n",
    "True == False\n",
    "\n",
    "# Comparison of integers\n",
    "-5 * 15 != 75\n",
    "\n",
    "# Comparison of strings\n",
    "\"pyscript\" == \"PyScript\"\n",
    "\n",
    "# Compare a boolean with an integer\n",
    "True == 1"
   ]
  },
  {
   "cell_type": "code",
   "execution_count": null,
   "metadata": {},
   "outputs": [],
   "source": [
    "# Greater and less than:\n",
    "\n",
    "# Comparison of integers\n",
    "x = -3 * 6\n",
    "print(x >= -10)\n",
    "\n",
    "# Comparison of strings\n",
    "y = \"test\"\n",
    "print(\"test\" <= y)\n",
    "\n",
    "# Comparison of booleans\n",
    "print(True > False)"
   ]
  },
  {
   "cell_type": "code",
   "execution_count": null,
   "metadata": {},
   "outputs": [],
   "source": [
    "# Compare arrays:\n",
    "\n",
    "# Create arrays\n",
    "import numpy as np\n",
    "my_house = np.array([18.0, 20.0, 10.75, 9.50])\n",
    "your_house = np.array([14.0, 24.0, 14.25, 9.0])\n",
    "\n",
    "# my_house greater than or equal to 18\n",
    "print(my_house >= 18)\n",
    "\n",
    "# my_house less than your_house\n",
    "print(my_house < your_house)"
   ]
  },
  {
   "cell_type": "code",
   "execution_count": 14,
   "metadata": {},
   "outputs": [
    {
     "output_type": "execute_result",
     "data": {
      "text/plain": "array([21.85171573, 21.75028214, 21.44127836])"
     },
     "metadata": {},
     "execution_count": 14
    }
   ],
   "source": [
    "# Boolean Operators:\n",
    "\n",
    "# AND\n",
    "True and True # = True\n",
    "False and True # = False\n",
    "True and False # = False\n",
    "False and False # = False\n",
    "\n",
    "x = 12\n",
    "x > 5 and x < 15 # = True\n",
    "\n",
    "# OR\n",
    "True and True # = True\n",
    "False and True # = True\n",
    "True and False # = True\n",
    "False and False # = False\n",
    "\n",
    "y = 5\n",
    "y < 7 or y > 13\n",
    "\n",
    "# NOT\n",
    "not True # = False\n",
    "not False # = True\n",
    "\n",
    "# NumPy\n",
    "bmi # calculation of bmi left out\n",
    "bmi > 21\n",
    "bmi < 22\n",
    "# bmi > 21 and bmi < 22 # Results in error\n",
    "\n",
    "# For NumPy arrays, you need to use one of these solutions in order to get it to work:\n",
    "# logical_and()\n",
    "# logical_or()\n",
    "# logical_not()\n",
    "\n",
    "np.logical_and(bmi > 21, bmi < 22)\n",
    "bmi[np.logical_and(bmi > 21, bmi < 22)]"
   ]
  },
  {
   "cell_type": "code",
   "execution_count": null,
   "metadata": {},
   "outputs": [],
   "source": [
    "# and, or, not (1):\n",
    "\n",
    "# Define variables\n",
    "my_kitchen = 18.0\n",
    "your_kitchen = 14.0\n",
    "\n",
    "# my_kitchen bigger than 10 and smaller than 18?\n",
    "print(my_kitchen > 10 and my_kitchen < 18)\n",
    "\n",
    "# my_kitchen smaller than 14 or bigger than 17?\n",
    "print(my_kitchen < 14 or my_kitchen > 17)\n",
    "\n",
    "# Double my_kitchen smaller than triple your_kitchen?\n",
    "print(2*my_kitchen < 3*your_kitchen)"
   ]
  },
  {
   "cell_type": "code",
   "execution_count": null,
   "metadata": {},
   "outputs": [],
   "source": [
    "# Boolean operators with Numpy:\n",
    "\n",
    "# Create arrays\n",
    "import numpy as np\n",
    "my_house = np.array([18.0, 20.0, 10.75, 9.50])\n",
    "your_house = np.array([14.0, 24.0, 14.25, 9.0])\n",
    "\n",
    "# my_house greater than 18.5 or smaller than 10\n",
    "print(np.logical_or(my_house > 18.5, my_house < 10))\n",
    "\n",
    "\n",
    "# Both my_house and your_house smaller than 11\n",
    "print(np.logical_and(my_house < 11, your_house < 11))"
   ]
  },
  {
   "cell_type": "code",
   "execution_count": 16,
   "metadata": {},
   "outputs": [
    {
     "output_type": "execute_result",
     "data": {
      "text/plain": "False"
     },
     "metadata": {},
     "execution_count": 16
    }
   ],
   "source": [
    "# if, elif, else:\n",
    "\n",
    "if condition :\n",
    "    expression\n",
    "\n",
    "z = 4\n",
    "if z % 2 == 0: # True_\n",
    "    print(\"z is even\")\n",
    "\n",
    "z = 4\n",
    "if z % 2 == 0:\n",
    "    print(\"checking \" + str(z))\n",
    "    print(\"z is even\")\n",
    "\n",
    "z = 5\n",
    "if z % 2 == 0:\n",
    "    print(\"checking \" + str(z))\n",
    "    print(\"z is even\") \n",
    "    # No output\n",
    "\n",
    "z = 5\n",
    "if z % 2 == 0: # False\n",
    "    print(\"z is even\")\n",
    "else:\n",
    "    print(\"z is odd\")\n",
    "\n",
    "z = 3\n",
    "if z % 2 == 0:\n",
    "    print(\"z is divisable by 2\") # False\n",
    "elif z % 3 == 0:\n",
    "    print(\"z is divisable by 3\") # True\n",
    "else:\n",
    "    print(\"z is neither divisible by 2 nor by 3\")\n",
    "\n",
    "z = 6\n",
    "if z % 2 == 0:\n",
    "    print(\"z is divisable by 2\")\n",
    "elif z % 3 == 0:\n",
    "    print(\"z is divisable by 3\") # Never reached\n",
    "else:\n",
    "    print(\"z is neither divisible by 2 nor by 3\")"
   ]
  },
  {
   "cell_type": "code",
   "execution_count": null,
   "metadata": {},
   "outputs": [],
   "source": [
    "# if:\n",
    "\n",
    "# Define variables\n",
    "room = \"kit\"\n",
    "area = 14.0\n",
    "\n",
    "# if statement for room\n",
    "if room == \"kit\" :\n",
    "    print(\"looking around in the kitchen.\")\n",
    "\n",
    "# if statement for area\n",
    "if area > 15:\n",
    "    print(\"big place!\")"
   ]
  },
  {
   "cell_type": "code",
   "execution_count": null,
   "metadata": {},
   "outputs": [],
   "source": [
    "# Add else:\n",
    "\n",
    "# Define variables\n",
    "room = \"kit\"\n",
    "area = 14.0\n",
    "\n",
    "# if-else construct for room\n",
    "if room == \"kit\" :\n",
    "    print(\"looking around in the kitchen.\")\n",
    "else :\n",
    "    print(\"looking around elsewhere.\")\n",
    "\n",
    "# if-else construct for area\n",
    "if area > 15 :\n",
    "    print(\"big place!\")\n",
    "else:\n",
    "    print(\"pretty small.\")"
   ]
  },
  {
   "cell_type": "code",
   "execution_count": null,
   "metadata": {},
   "outputs": [],
   "source": [
    "# Customize further: elif:\n",
    "\n",
    "# Define variables\n",
    "room = \"bed\"\n",
    "area = 14.0\n",
    "\n",
    "# if-elif-else construct for room\n",
    "if room == \"kit\" :\n",
    "    print(\"looking around in the kitchen.\")\n",
    "elif room == \"bed\":\n",
    "    print(\"looking around in the bedroom.\")\n",
    "else :\n",
    "    print(\"looking around elsewhere.\")\n",
    "\n",
    "# if-elif-else construct for area\n",
    "if area > 15 :\n",
    "    print(\"big place!\")\n",
    "elif area > 10:\n",
    "    print(\"medium size, nice!\")\n",
    "else :\n",
    "    print(\"pretty small.\")"
   ]
  },
  {
   "cell_type": "code",
   "execution_count": null,
   "metadata": {},
   "outputs": [],
   "source": [
    "# Filtering pandas DataFrames:\n",
    "\n",
    "import pandas as pd\n",
    "brics = pd.read_csv(\"path/to/brics.csv\", index_col = 0)\n",
    "brics\n",
    "\n",
    "brics[\"area\"]\n",
    "brics.loc[:,\"area\"]\n",
    "brics.iloc[:,2]\n",
    "\n",
    "brics[\"area\"] > 8\n",
    "is_huge = brics[\"area\"] > 8\n",
    "brics[is_huge]\n",
    "bric[brics[\"area\"] > 8]\n",
    "\n",
    "import numpy as np\n",
    "np.logical_and(brics[brics[\"area\"] > 8],brics[\"area\"] < 10)\n",
    "brics[np.logical_and(brics[brics[\"area\"] > 8],brics[\"area\"] < 10)]"
   ]
  },
  {
   "cell_type": "code",
   "execution_count": null,
   "metadata": {},
   "outputs": [],
   "source": [
    "# Driving right (1):\n",
    "\n",
    "# Import cars data\n",
    "import pandas as pd\n",
    "cars = pd.read_csv('cars.csv', index_col = 0)\n",
    "\n",
    "# Extract drives_right column as Series: dr\n",
    "dr = cars[\"drives_right\"]\n",
    "\n",
    "# Use dr to subset cars: sel\n",
    "sel = cars[dr]\n",
    "\n",
    "# Print sel\n",
    "print(sel)"
   ]
  },
  {
   "cell_type": "code",
   "execution_count": null,
   "metadata": {},
   "outputs": [],
   "source": [
    "# Driving right (2):\n",
    "\n",
    "# Import cars data\n",
    "import pandas as pd\n",
    "cars = pd.read_csv('cars.csv', index_col = 0)\n",
    "\n",
    "# Convert code to a one-liner\n",
    "sel = cars[cars['drives_right']]\n",
    "\n",
    "# Print sel\n",
    "print(sel)"
   ]
  },
  {
   "cell_type": "code",
   "execution_count": null,
   "metadata": {},
   "outputs": [],
   "source": [
    "# Cars per capita (1):\n",
    "\n",
    "# Import cars data\n",
    "import pandas as pd\n",
    "cars = pd.read_csv('cars.csv', index_col = 0)\n",
    "\n",
    "# Create car_maniac: observations that have a cars_per_cap over 500\n",
    "cpc = cars[\"cars_per_cap\"]\n",
    "many_cars = cpc > 500\n",
    "car_maniac = cars[many_cars]\n",
    "\n",
    "# Print car_maniac\n",
    "print(car_maniac)"
   ]
  },
  {
   "cell_type": "code",
   "execution_count": null,
   "metadata": {},
   "outputs": [],
   "source": [
    "# Cars per capita (2):\n",
    "\n",
    "# Import cars data\n",
    "import pandas as pd\n",
    "cars = pd.read_csv('cars.csv', index_col = 0)\n",
    "\n",
    "# Import numpy, you'll need this\n",
    "import numpy as np\n",
    "\n",
    "# Create medium: observations with cars_per_cap between 100 and 500\n",
    "cpc = cars['cars_per_cap']\n",
    "between = np.logical_and(cpc > 100, cpc < 500)\n",
    "medium = cars[between]\n",
    "\n",
    "# Print medium\n",
    "print(medium)"
   ]
  },
  {
   "cell_type": "code",
   "execution_count": null,
   "metadata": {},
   "outputs": [],
   "source": []
  },
  {
   "cell_type": "code",
   "execution_count": null,
   "metadata": {},
   "outputs": [],
   "source": []
  },
  {
   "cell_type": "code",
   "execution_count": null,
   "metadata": {},
   "outputs": [],
   "source": []
  }
 ],
 "metadata": {
  "language_info": {
   "codemirror_mode": {
    "name": "ipython",
    "version": 3
   },
   "file_extension": ".py",
   "mimetype": "text/x-python",
   "name": "python",
   "nbconvert_exporter": "python",
   "pygments_lexer": "ipython3",
   "version": 3
  },
  "orig_nbformat": 2,
  "kernelspec": {
   "name": "python3",
   "display_name": "Python 3"
  }
 },
 "nbformat": 4,
 "nbformat_minor": 2
}