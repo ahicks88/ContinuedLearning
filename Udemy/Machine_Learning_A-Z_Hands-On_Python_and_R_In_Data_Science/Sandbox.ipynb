x = 5
x = x^2
x
